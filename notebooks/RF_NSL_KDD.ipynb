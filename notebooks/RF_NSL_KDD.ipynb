{
 "cells": [
  {
   "cell_type": "code",
   "execution_count": 1,
   "id": "b77552b4-cfbe-41b4-9f7a-0c6b1e027f47",
   "metadata": {
    "editable": true,
    "slideshow": {
     "slide_type": ""
    },
    "tags": []
   },
   "outputs": [],
   "source": [
    "import pandas as pd\n",
    "from sklearn.decomposition import PCA\n",
    "from time import time\n",
    "import numpy as np\n",
    "import matplotlib.pyplot as plt; plt.style.use('dark_background')\n",
    "import seaborn as sns\n",
    "from tqdm import tqdm\n",
    "from sklearn.metrics import confusion_matrix\n",
    "import warnings; warnings.filterwarnings('ignore')\n",
    "\n",
    "from sklearn.preprocessing import LabelEncoder\n",
    "from sklearn.pipeline import make_pipeline\n",
    "from sklearn.feature_selection import SelectPercentile, f_classif, RFECV\n",
    "from sklearn.ensemble import RandomForestClassifier\n",
    "from sklearn.preprocessing import MinMaxScaler\n",
    "from sklearn.model_selection import train_test_split, cross_val_score, StratifiedKFold\n",
    "from sklearn.metrics import accuracy_score, precision_score, recall_score, f1_score, confusion_matrix"
   ]
  },
  {
   "cell_type": "code",
   "execution_count": 2,
   "id": "0ad2bf9e-1a46-41f5-94b4-db274063fedc",
   "metadata": {},
   "outputs": [
    {
     "data": {
      "text/html": [
       "<div>\n",
       "<style scoped>\n",
       "    .dataframe tbody tr th:only-of-type {\n",
       "        vertical-align: middle;\n",
       "    }\n",
       "\n",
       "    .dataframe tbody tr th {\n",
       "        vertical-align: top;\n",
       "    }\n",
       "\n",
       "    .dataframe thead th {\n",
       "        text-align: right;\n",
       "    }\n",
       "</style>\n",
       "<table border=\"1\" class=\"dataframe\">\n",
       "  <thead>\n",
       "    <tr style=\"text-align: right;\">\n",
       "      <th></th>\n",
       "      <th>duration</th>\n",
       "      <th>src_bytes</th>\n",
       "      <th>dst_bytes</th>\n",
       "      <th>land</th>\n",
       "      <th>wrong_fragment</th>\n",
       "      <th>urgent</th>\n",
       "      <th>hot</th>\n",
       "      <th>num_failed_logins</th>\n",
       "      <th>logged_in</th>\n",
       "      <th>num_compromised</th>\n",
       "      <th>...</th>\n",
       "      <th>dst_host_srv_count</th>\n",
       "      <th>dst_host_same_srv_rate</th>\n",
       "      <th>dst_host_diff_srv_rate</th>\n",
       "      <th>dst_host_same_src_port_rate</th>\n",
       "      <th>dst_host_srv_diff_host_rate</th>\n",
       "      <th>dst_host_serror_rate</th>\n",
       "      <th>dst_host_srv_serror_rate</th>\n",
       "      <th>dst_host_rerror_rate</th>\n",
       "      <th>dst_host_srv_rerror_rate</th>\n",
       "      <th>level</th>\n",
       "    </tr>\n",
       "  </thead>\n",
       "  <tbody>\n",
       "    <tr>\n",
       "      <th>count</th>\n",
       "      <td>125973.00000</td>\n",
       "      <td>1.259730e+05</td>\n",
       "      <td>1.259730e+05</td>\n",
       "      <td>125973.000000</td>\n",
       "      <td>125973.000000</td>\n",
       "      <td>125973.000000</td>\n",
       "      <td>125973.000000</td>\n",
       "      <td>125973.000000</td>\n",
       "      <td>125973.000000</td>\n",
       "      <td>125973.000000</td>\n",
       "      <td>...</td>\n",
       "      <td>125973.000000</td>\n",
       "      <td>125973.000000</td>\n",
       "      <td>125973.000000</td>\n",
       "      <td>125973.000000</td>\n",
       "      <td>125973.000000</td>\n",
       "      <td>125973.000000</td>\n",
       "      <td>125973.000000</td>\n",
       "      <td>125973.000000</td>\n",
       "      <td>125973.000000</td>\n",
       "      <td>125973.000000</td>\n",
       "    </tr>\n",
       "    <tr>\n",
       "      <th>mean</th>\n",
       "      <td>287.14465</td>\n",
       "      <td>4.556674e+04</td>\n",
       "      <td>1.977911e+04</td>\n",
       "      <td>0.000198</td>\n",
       "      <td>0.022687</td>\n",
       "      <td>0.000111</td>\n",
       "      <td>0.204409</td>\n",
       "      <td>0.001222</td>\n",
       "      <td>0.395736</td>\n",
       "      <td>0.279250</td>\n",
       "      <td>...</td>\n",
       "      <td>115.653005</td>\n",
       "      <td>0.521242</td>\n",
       "      <td>0.082951</td>\n",
       "      <td>0.148379</td>\n",
       "      <td>0.032542</td>\n",
       "      <td>0.284452</td>\n",
       "      <td>0.278485</td>\n",
       "      <td>0.118832</td>\n",
       "      <td>0.120240</td>\n",
       "      <td>19.504060</td>\n",
       "    </tr>\n",
       "    <tr>\n",
       "      <th>std</th>\n",
       "      <td>2604.51531</td>\n",
       "      <td>5.870331e+06</td>\n",
       "      <td>4.021269e+06</td>\n",
       "      <td>0.014086</td>\n",
       "      <td>0.253530</td>\n",
       "      <td>0.014366</td>\n",
       "      <td>2.149968</td>\n",
       "      <td>0.045239</td>\n",
       "      <td>0.489010</td>\n",
       "      <td>23.942042</td>\n",
       "      <td>...</td>\n",
       "      <td>110.702741</td>\n",
       "      <td>0.448949</td>\n",
       "      <td>0.188922</td>\n",
       "      <td>0.308997</td>\n",
       "      <td>0.112564</td>\n",
       "      <td>0.444784</td>\n",
       "      <td>0.445669</td>\n",
       "      <td>0.306557</td>\n",
       "      <td>0.319459</td>\n",
       "      <td>2.291503</td>\n",
       "    </tr>\n",
       "    <tr>\n",
       "      <th>min</th>\n",
       "      <td>0.00000</td>\n",
       "      <td>0.000000e+00</td>\n",
       "      <td>0.000000e+00</td>\n",
       "      <td>0.000000</td>\n",
       "      <td>0.000000</td>\n",
       "      <td>0.000000</td>\n",
       "      <td>0.000000</td>\n",
       "      <td>0.000000</td>\n",
       "      <td>0.000000</td>\n",
       "      <td>0.000000</td>\n",
       "      <td>...</td>\n",
       "      <td>0.000000</td>\n",
       "      <td>0.000000</td>\n",
       "      <td>0.000000</td>\n",
       "      <td>0.000000</td>\n",
       "      <td>0.000000</td>\n",
       "      <td>0.000000</td>\n",
       "      <td>0.000000</td>\n",
       "      <td>0.000000</td>\n",
       "      <td>0.000000</td>\n",
       "      <td>0.000000</td>\n",
       "    </tr>\n",
       "    <tr>\n",
       "      <th>25%</th>\n",
       "      <td>0.00000</td>\n",
       "      <td>0.000000e+00</td>\n",
       "      <td>0.000000e+00</td>\n",
       "      <td>0.000000</td>\n",
       "      <td>0.000000</td>\n",
       "      <td>0.000000</td>\n",
       "      <td>0.000000</td>\n",
       "      <td>0.000000</td>\n",
       "      <td>0.000000</td>\n",
       "      <td>0.000000</td>\n",
       "      <td>...</td>\n",
       "      <td>10.000000</td>\n",
       "      <td>0.050000</td>\n",
       "      <td>0.000000</td>\n",
       "      <td>0.000000</td>\n",
       "      <td>0.000000</td>\n",
       "      <td>0.000000</td>\n",
       "      <td>0.000000</td>\n",
       "      <td>0.000000</td>\n",
       "      <td>0.000000</td>\n",
       "      <td>18.000000</td>\n",
       "    </tr>\n",
       "    <tr>\n",
       "      <th>50%</th>\n",
       "      <td>0.00000</td>\n",
       "      <td>4.400000e+01</td>\n",
       "      <td>0.000000e+00</td>\n",
       "      <td>0.000000</td>\n",
       "      <td>0.000000</td>\n",
       "      <td>0.000000</td>\n",
       "      <td>0.000000</td>\n",
       "      <td>0.000000</td>\n",
       "      <td>0.000000</td>\n",
       "      <td>0.000000</td>\n",
       "      <td>...</td>\n",
       "      <td>63.000000</td>\n",
       "      <td>0.510000</td>\n",
       "      <td>0.020000</td>\n",
       "      <td>0.000000</td>\n",
       "      <td>0.000000</td>\n",
       "      <td>0.000000</td>\n",
       "      <td>0.000000</td>\n",
       "      <td>0.000000</td>\n",
       "      <td>0.000000</td>\n",
       "      <td>20.000000</td>\n",
       "    </tr>\n",
       "    <tr>\n",
       "      <th>75%</th>\n",
       "      <td>0.00000</td>\n",
       "      <td>2.760000e+02</td>\n",
       "      <td>5.160000e+02</td>\n",
       "      <td>0.000000</td>\n",
       "      <td>0.000000</td>\n",
       "      <td>0.000000</td>\n",
       "      <td>0.000000</td>\n",
       "      <td>0.000000</td>\n",
       "      <td>1.000000</td>\n",
       "      <td>0.000000</td>\n",
       "      <td>...</td>\n",
       "      <td>255.000000</td>\n",
       "      <td>1.000000</td>\n",
       "      <td>0.070000</td>\n",
       "      <td>0.060000</td>\n",
       "      <td>0.020000</td>\n",
       "      <td>1.000000</td>\n",
       "      <td>1.000000</td>\n",
       "      <td>0.000000</td>\n",
       "      <td>0.000000</td>\n",
       "      <td>21.000000</td>\n",
       "    </tr>\n",
       "    <tr>\n",
       "      <th>max</th>\n",
       "      <td>42908.00000</td>\n",
       "      <td>1.379964e+09</td>\n",
       "      <td>1.309937e+09</td>\n",
       "      <td>1.000000</td>\n",
       "      <td>3.000000</td>\n",
       "      <td>3.000000</td>\n",
       "      <td>77.000000</td>\n",
       "      <td>5.000000</td>\n",
       "      <td>1.000000</td>\n",
       "      <td>7479.000000</td>\n",
       "      <td>...</td>\n",
       "      <td>255.000000</td>\n",
       "      <td>1.000000</td>\n",
       "      <td>1.000000</td>\n",
       "      <td>1.000000</td>\n",
       "      <td>1.000000</td>\n",
       "      <td>1.000000</td>\n",
       "      <td>1.000000</td>\n",
       "      <td>1.000000</td>\n",
       "      <td>1.000000</td>\n",
       "      <td>21.000000</td>\n",
       "    </tr>\n",
       "  </tbody>\n",
       "</table>\n",
       "<p>8 rows × 39 columns</p>\n",
       "</div>"
      ],
      "text/plain": [
       "           duration     src_bytes     dst_bytes           land  \\\n",
       "count  125973.00000  1.259730e+05  1.259730e+05  125973.000000   \n",
       "mean      287.14465  4.556674e+04  1.977911e+04       0.000198   \n",
       "std      2604.51531  5.870331e+06  4.021269e+06       0.014086   \n",
       "min         0.00000  0.000000e+00  0.000000e+00       0.000000   \n",
       "25%         0.00000  0.000000e+00  0.000000e+00       0.000000   \n",
       "50%         0.00000  4.400000e+01  0.000000e+00       0.000000   \n",
       "75%         0.00000  2.760000e+02  5.160000e+02       0.000000   \n",
       "max     42908.00000  1.379964e+09  1.309937e+09       1.000000   \n",
       "\n",
       "       wrong_fragment         urgent            hot  num_failed_logins  \\\n",
       "count   125973.000000  125973.000000  125973.000000      125973.000000   \n",
       "mean         0.022687       0.000111       0.204409           0.001222   \n",
       "std          0.253530       0.014366       2.149968           0.045239   \n",
       "min          0.000000       0.000000       0.000000           0.000000   \n",
       "25%          0.000000       0.000000       0.000000           0.000000   \n",
       "50%          0.000000       0.000000       0.000000           0.000000   \n",
       "75%          0.000000       0.000000       0.000000           0.000000   \n",
       "max          3.000000       3.000000      77.000000           5.000000   \n",
       "\n",
       "           logged_in  num_compromised  ...  dst_host_srv_count  \\\n",
       "count  125973.000000    125973.000000  ...       125973.000000   \n",
       "mean        0.395736         0.279250  ...          115.653005   \n",
       "std         0.489010        23.942042  ...          110.702741   \n",
       "min         0.000000         0.000000  ...            0.000000   \n",
       "25%         0.000000         0.000000  ...           10.000000   \n",
       "50%         0.000000         0.000000  ...           63.000000   \n",
       "75%         1.000000         0.000000  ...          255.000000   \n",
       "max         1.000000      7479.000000  ...          255.000000   \n",
       "\n",
       "       dst_host_same_srv_rate  dst_host_diff_srv_rate  \\\n",
       "count           125973.000000           125973.000000   \n",
       "mean                 0.521242                0.082951   \n",
       "std                  0.448949                0.188922   \n",
       "min                  0.000000                0.000000   \n",
       "25%                  0.050000                0.000000   \n",
       "50%                  0.510000                0.020000   \n",
       "75%                  1.000000                0.070000   \n",
       "max                  1.000000                1.000000   \n",
       "\n",
       "       dst_host_same_src_port_rate  dst_host_srv_diff_host_rate  \\\n",
       "count                125973.000000                125973.000000   \n",
       "mean                      0.148379                     0.032542   \n",
       "std                       0.308997                     0.112564   \n",
       "min                       0.000000                     0.000000   \n",
       "25%                       0.000000                     0.000000   \n",
       "50%                       0.000000                     0.000000   \n",
       "75%                       0.060000                     0.020000   \n",
       "max                       1.000000                     1.000000   \n",
       "\n",
       "       dst_host_serror_rate  dst_host_srv_serror_rate  dst_host_rerror_rate  \\\n",
       "count         125973.000000             125973.000000         125973.000000   \n",
       "mean               0.284452                  0.278485              0.118832   \n",
       "std                0.444784                  0.445669              0.306557   \n",
       "min                0.000000                  0.000000              0.000000   \n",
       "25%                0.000000                  0.000000              0.000000   \n",
       "50%                0.000000                  0.000000              0.000000   \n",
       "75%                1.000000                  1.000000              0.000000   \n",
       "max                1.000000                  1.000000              1.000000   \n",
       "\n",
       "       dst_host_srv_rerror_rate          level  \n",
       "count             125973.000000  125973.000000  \n",
       "mean                   0.120240      19.504060  \n",
       "std                    0.319459       2.291503  \n",
       "min                    0.000000       0.000000  \n",
       "25%                    0.000000      18.000000  \n",
       "50%                    0.000000      20.000000  \n",
       "75%                    0.000000      21.000000  \n",
       "max                    1.000000      21.000000  \n",
       "\n",
       "[8 rows x 39 columns]"
      ]
     },
     "execution_count": 2,
     "metadata": {},
     "output_type": "execute_result"
    }
   ],
   "source": [
    "col_names = ['duration','protocol_type','service','flag','src_bytes','dst_bytes','land','wrong_fragment','urgent','hot'\n",
    "            ,'num_failed_logins','logged_in','num_compromised','root_shell','su_attempted','num_root','num_file_creations'\n",
    "            ,'num_shells','num_access_files','num_outbound_cmds','is_host_login','is_guest_login','count','srv_count','serror_rate'\n",
    "            ,'srv_serror_rate','rerror_rate','srv_rerror_rate','same_srv_rate','diff_srv_rate','srv_diff_host_rate','dst_host_count'\n",
    "            ,'dst_host_srv_count','dst_host_same_srv_rate','dst_host_diff_srv_rate','dst_host_same_src_port_rate'\n",
    "            ,'dst_host_srv_diff_host_rate','dst_host_serror_rate','dst_host_srv_serror_rate','dst_host_rerror_rate','dst_host_srv_rerror_rate'\n",
    "            ,'outcome','level']\n",
    "\n",
    "num_features = ['duration','src_bytes','dst_bytes','land','wrong_fragment','urgent','hot'\n",
    "            ,'num_failed_logins','logged_in','num_compromised','root_shell','su_attempted','num_root','num_file_creations'\n",
    "            ,'num_shells','num_access_files','num_outbound_cmds','is_host_login','is_guest_login','count','srv_count','serror_rate'\n",
    "            ,'srv_serror_rate','rerror_rate','srv_rerror_rate','same_srv_rate','diff_srv_rate','srv_diff_host_rate','dst_host_count'\n",
    "            ,'dst_host_srv_count','dst_host_same_srv_rate','dst_host_diff_srv_rate','dst_host_same_src_port_rate'\n",
    "            ,'dst_host_srv_diff_host_rate','dst_host_serror_rate','dst_host_srv_serror_rate','dst_host_rerror_rate','dst_host_srv_rerror_rate'\n",
    "            ,'level']\n",
    "\n",
    "kdd_train = pd.read_csv(\"NSL_KDD/KDDTrain+.txt\", names = col_names)\n",
    "kdd_test = pd.read_csv(\"NSL_KDD/KDDTest+.txt\", names = col_names)\n",
    "kdd_train.describe()"
   ]
  },
  {
   "cell_type": "markdown",
   "id": "f32ffb1e-c941-469e-a3d1-23f66c759c1c",
   "metadata": {},
   "source": [
    "# Binary Classification"
   ]
  },
  {
   "cell_type": "code",
   "execution_count": 3,
   "id": "b0044964-d444-4159-a924-9bae6806edeb",
   "metadata": {},
   "outputs": [
    {
     "name": "stdout",
     "output_type": "stream",
     "text": [
      "outcome\n",
      "normal    67343\n",
      "attack    58630\n",
      "Name: count, dtype: int64\n",
      "outcome\n",
      "attack    12833\n",
      "normal     9711\n",
      "Name: count, dtype: int64\n"
     ]
    }
   ],
   "source": [
    "nsl_kdd_train = kdd_train.copy()\n",
    "nsl_kdd_test = kdd_test.copy()\n",
    "\n",
    "nsl_kdd_train.loc[nsl_kdd_train['outcome'] == \"normal\", \"outcome\"] = 'normal'\n",
    "nsl_kdd_train.loc[nsl_kdd_train['outcome'] != 'normal', \"outcome\"] = 'attack'\n",
    "print(nsl_kdd_train[\"outcome\"].value_counts())\n",
    "\n",
    "nsl_kdd_test.loc[nsl_kdd_test['outcome'] == \"normal\", \"outcome\"] = 'normal'\n",
    "nsl_kdd_test.loc[nsl_kdd_test['outcome'] != 'normal', \"outcome\"] = 'attack'\n",
    "print(nsl_kdd_test[\"outcome\"].value_counts())"
   ]
  },
  {
   "cell_type": "code",
   "execution_count": 4,
   "id": "2891703e-4fb8-47f8-93b7-874a67107822",
   "metadata": {},
   "outputs": [],
   "source": [
    "X_train = nsl_kdd_train[num_features]\n",
    "X_test = nsl_kdd_test[num_features]\n",
    "y_train = nsl_kdd_train[\"outcome\"]\n",
    "y_test = nsl_kdd_test[\"outcome\"]"
   ]
  },
  {
   "cell_type": "code",
   "execution_count": 5,
   "id": "bc31e0cc-1b92-4b7a-99c0-6b2d5c1a1f5a",
   "metadata": {
    "editable": true,
    "slideshow": {
     "slide_type": ""
    },
    "tags": []
   },
   "outputs": [],
   "source": [
    "# Assuming 'features' is your DataFrame\n",
    "scaler = MinMaxScaler()\n",
    "\n",
    "# Apply Min-Max scaling to each column separately\n",
    "X_train_scaled = X_train.copy()\n",
    "for column in X_train.columns:\n",
    "    column_data = X_train[column].values.reshape(-1, 1)\n",
    "    X_train_scaled[column] = scaler.fit_transform(column_data)\n",
    "\n",
    "# If you want to keep the scaled data in the original DataFrame\n",
    "X_train_scaled.columns = X_train.columns\n",
    "\n",
    "# Apply Min-Max scaling to each column separately\n",
    "X_test_scaled = X_test.copy()\n",
    "for column in X_test.columns:\n",
    "    column_data = X_test[column].values.reshape(-1, 1)\n",
    "    X_test_scaled[column] = scaler.fit_transform(column_data)\n",
    "\n",
    "# If you want to keep the scaled data in the original DataFrame\n",
    "X_test_scaled.columns = X_test.columns"
   ]
  },
  {
   "cell_type": "code",
   "execution_count": 6,
   "id": "3ef37092-6652-4b1c-8209-179550a94fc4",
   "metadata": {},
   "outputs": [
    {
     "name": "stdout",
     "output_type": "stream",
     "text": [
      "Classifier trained in 1.593 seconds.\n"
     ]
    }
   ],
   "source": [
    "#Training a classifier\n",
    "clf = RandomForestClassifier(n_estimators=20, max_depth=20, random_state = 0)\n",
    "# clf = RandomForestClassifier( random_state = 0)\n",
    "t0 = time()\n",
    "clf.fit(X_train_scaled, y_train)\n",
    "tt = time() - t0\n",
    "print (\"Classifier trained in {} seconds.\".format(round(tt, 3)))"
   ]
  },
  {
   "cell_type": "code",
   "execution_count": 7,
   "id": "1fd1b090-df37-460e-a371-228c17dc40b7",
   "metadata": {
    "editable": true,
    "slideshow": {
     "slide_type": ""
    },
    "tags": []
   },
   "outputs": [
    {
     "name": "stdout",
     "output_type": "stream",
     "text": [
      "Classifier predicted on train set in 0.221 seconds.\n",
      "Classifier predicted on test set in 0.04 seconds.\n",
      "Accuracy train:  0.9999126797012058\n",
      "Accuracy test:  0.8107700496806246\n",
      "Precision:  0.8107700496806246\n",
      "Recall:  0.8107700496806246\n",
      "F1 Score:  0.8107700496806246\n"
     ]
    }
   ],
   "source": [
    "# Prediction on train set\n",
    "t0 = time()\n",
    "pred_train = clf.predict(X_train_scaled)\n",
    "tt = time() - t0\n",
    "print (\"Classifier predicted on train set in {} seconds.\".format(round(tt, 3)))\n",
    "\n",
    "# Prediction on test set\n",
    "t0 = time()\n",
    "pred_test = clf.predict(X_test_scaled)\n",
    "tt = time() - t0\n",
    "print (\"Classifier predicted on test set in {} seconds.\".format(round(tt, 3)))\n",
    "\n",
    "# Metrics\n",
    "precision = precision_score(y_test, pred_test, average='micro')\n",
    "recall = recall_score(y_test, pred_test, average='micro')\n",
    "f1 = f1_score(y_test, pred_test, average='micro')\n",
    "accuracy_train = accuracy_score(y_train, pred_train)\n",
    "accuracy_test = accuracy_score(y_test, pred_test)\n",
    "\n",
    "# Printing results\n",
    "print(\"Accuracy train: \", accuracy_train)\n",
    "print(\"Accuracy test: \", accuracy_test)\n",
    "print(\"Precision: \", precision)\n",
    "print(\"Recall: \", recall)\n",
    "print(\"F1 Score: \", f1)"
   ]
  },
  {
   "cell_type": "markdown",
   "id": "2d99a1f6-81e6-4c7f-8952-874c978b4801",
   "metadata": {},
   "source": [
    "# Non-binary classification"
   ]
  },
  {
   "cell_type": "code",
   "execution_count": 8,
   "id": "9abe370f-da23-4fdf-b17c-1344349d20b4",
   "metadata": {},
   "outputs": [
    {
     "data": {
      "text/plain": [
       "outcome\n",
       "normal             67343\n",
       "neptune            41214\n",
       "satan               3633\n",
       "ipsweep             3599\n",
       "portsweep           2931\n",
       "smurf               2646\n",
       "nmap                1493\n",
       "back                 956\n",
       "teardrop             892\n",
       "warezclient          890\n",
       "pod                  201\n",
       "guess_passwd          53\n",
       "buffer_overflow       30\n",
       "warezmaster           20\n",
       "land                  18\n",
       "imap                  11\n",
       "rootkit               10\n",
       "loadmodule             9\n",
       "ftp_write              8\n",
       "multihop               7\n",
       "phf                    4\n",
       "perl                   3\n",
       "spy                    2\n",
       "Name: count, dtype: int64"
      ]
     },
     "execution_count": 8,
     "metadata": {},
     "output_type": "execute_result"
    }
   ],
   "source": [
    "nsl_kdd_train = kdd_train.copy()\n",
    "nsl_kdd_test = kdd_test.copy()\n",
    "\n",
    "X_train = nsl_kdd_train[num_features]\n",
    "X_test = nsl_kdd_test[num_features]\n",
    "y_train = nsl_kdd_train[\"outcome\"]\n",
    "y_test = nsl_kdd_test[\"outcome\"]\n",
    "y_train.value_counts()"
   ]
  },
  {
   "cell_type": "code",
   "execution_count": 9,
   "id": "32746f7a-22c6-4b38-8b6c-ca8823bc80a3",
   "metadata": {},
   "outputs": [],
   "source": [
    "# Assuming 'features' is your DataFrame\n",
    "scaler = MinMaxScaler()\n",
    "\n",
    "# Apply Min-Max scaling to each column separately\n",
    "X_train_scaled = X_train.copy()\n",
    "for column in X_train.columns:\n",
    "    column_data = X_train[column].values.reshape(-1, 1)\n",
    "    X_train_scaled[column] = scaler.fit_transform(column_data)\n",
    "\n",
    "# If you want to keep the scaled data in the original DataFrame\n",
    "X_train_scaled.columns = X_train.columns\n",
    "\n",
    "# Apply Min-Max scaling to each column separately\n",
    "X_test_scaled = X_test.copy()\n",
    "for column in X_test.columns:\n",
    "    column_data = X_test[column].values.reshape(-1, 1)\n",
    "    X_test_scaled[column] = scaler.fit_transform(column_data)\n",
    "\n",
    "# If you want to keep the scaled data in the original DataFrame\n",
    "X_test_scaled.columns = X_test.columns"
   ]
  },
  {
   "cell_type": "code",
   "execution_count": 10,
   "id": "cde0122e-e0c3-4eea-aec8-c751ed921085",
   "metadata": {},
   "outputs": [
    {
     "name": "stdout",
     "output_type": "stream",
     "text": [
      "Classifier trained in 11.31 seconds.\n"
     ]
    }
   ],
   "source": [
    "#Training a classifier\n",
    "clf = RandomForestClassifier(n_estimators=100, max_depth=None, random_state = 0)\n",
    "# clf = RandomForestClassifier( random_state = 0)\n",
    "t0 = time()\n",
    "clf.fit(X_train_scaled, y_train)\n",
    "tt = time() - t0\n",
    "print (\"Classifier trained in {} seconds.\".format(round(tt, 3)))"
   ]
  },
  {
   "cell_type": "code",
   "execution_count": 11,
   "id": "ba94e39c-0f5f-4222-bcf9-87b2c561aace",
   "metadata": {},
   "outputs": [
    {
     "name": "stdout",
     "output_type": "stream",
     "text": [
      "Classifier predicted on train set in 2.221 seconds.\n",
      "Classifier predicted on test set in 0.344 seconds.\n",
      "Accuracy train:  0.9998650504473181\n",
      "Accuracy test:  0.6980571327182399\n",
      "Precision:  0.6980571327182399\n",
      "Recall:  0.6980571327182399\n",
      "F1 Score:  0.6980571327182399\n"
     ]
    }
   ],
   "source": [
    "# Prediction on train set\n",
    "t0 = time()\n",
    "pred_train = clf.predict(X_train_scaled)\n",
    "tt = time() - t0\n",
    "print (\"Classifier predicted on train set in {} seconds.\".format(round(tt, 3)))\n",
    "\n",
    "# Prediction on test set\n",
    "t0 = time()\n",
    "pred_test = clf.predict(X_test_scaled)\n",
    "tt = time() - t0\n",
    "print (\"Classifier predicted on test set in {} seconds.\".format(round(tt, 3)))\n",
    "\n",
    "# Metrics\n",
    "precision = precision_score(y_test, pred_test, average='micro')\n",
    "recall = recall_score(y_test, pred_test, average='micro')\n",
    "f1 = f1_score(y_test, pred_test, average='micro')\n",
    "accuracy_train = accuracy_score(y_train, pred_train)\n",
    "accuracy_test = accuracy_score(y_test, pred_test)\n",
    "\n",
    "# Printing results\n",
    "print(\"Accuracy train: \", accuracy_train)\n",
    "print(\"Accuracy test: \", accuracy_test)\n",
    "print(\"Precision: \", precision)\n",
    "print(\"Recall: \", recall)\n",
    "print(\"F1 Score: \", f1)"
   ]
  },
  {
   "cell_type": "markdown",
   "id": "e4168e7c-4bc3-4b2c-9232-0f503c17556c",
   "metadata": {},
   "source": [
    "# PCA"
   ]
  },
  {
   "cell_type": "code",
   "execution_count": 12,
   "id": "4b580a5f-5411-4685-b112-bee8967d0e6f",
   "metadata": {},
   "outputs": [
    {
     "data": {
      "image/png": "[encoded data removed]",
      "text/plain": [
       "<Figure size 1500x1000 with 1 Axes>"
      ]
     },
     "metadata": {},
     "output_type": "display_data"
    }
   ],
   "source": [
    "pca = PCA().fit(X_train_scaled)\n",
    "\n",
    "fig, ax = plt.subplots( figsize=(15, 10))\n",
    "plt.plot(np.cumsum(pca.explained_variance_ratio_))\n",
    "plt.xlabel('Number of Components')\n",
    "plt.ylabel('Cumulative Explained Variance')\n",
    "plt.title('PCA Analysis for Digits Dataset')\n",
    "plt.axhline(y=0.95, color='r', linestyle='--', label='95% Explained Variance')\n",
    "plt.legend()\n",
    "\n",
    "# Find the index where cumulative explained variance first exceeds 95%\n",
    "index_95_percent = np.argmax(np.cumsum(pca.explained_variance_ratio_) >= 0.95)\n",
    "\n",
    "# Add a marker at the 95% point\n",
    "plt.scatter(index_95_percent, 0.95, color='r', marker='o')\n",
    "\n",
    "# Annotate the point with text\n",
    "plt.annotate(f'{index_95_percent+1} components\\n95% explained variance',\n",
    "             xy=(index_95_percent, 0.95), xytext=(index_95_percent+20, 0.92),\n",
    "             arrowprops=dict(facecolor='black', shrink=0.05))\n",
    "\n",
    "plt.show()"
   ]
  },
  {
   "cell_type": "code",
   "execution_count": 13,
   "id": "d4661245-7377-46ff-a970-82ca97eac8fb",
   "metadata": {},
   "outputs": [
    {
     "name": "stdout",
     "output_type": "stream",
     "text": [
      "8\n"
     ]
    }
   ],
   "source": [
    "pca = PCA(n_components=index_95_percent)\n",
    "pca_train = pca.fit_transform(X_train_scaled)\n",
    "pca_test = pca.transform(X_test_scaled)\n",
    "print(index_95_percent)"
   ]
  },
  {
   "cell_type": "code",
   "execution_count": 14,
   "id": "0e5d1b41-0076-43bb-b8b8-650598bcac00",
   "metadata": {},
   "outputs": [
    {
     "name": "stdout",
     "output_type": "stream",
     "text": [
      "Trained in 30.646 seconds\n"
     ]
    }
   ],
   "source": [
    "#Predictions on the test data\n",
    "clf = RandomForestClassifier(n_estimators=100, max_depth=20, random_state = 0)\n",
    "t0 = time()\n",
    "clf.fit(pca_train, y_train)\n",
    "tt = time() - t0\n",
    "print (\"Trained in {} seconds\".format(round(tt,3)))"
   ]
  },
  {
   "cell_type": "code",
   "execution_count": 15,
   "id": "dde1df91-8c9a-42de-aee3-fa0591ad4e88",
   "metadata": {
    "editable": true,
    "slideshow": {
     "slide_type": ""
    },
    "tags": []
   },
   "outputs": [
    {
     "name": "stdout",
     "output_type": "stream",
     "text": [
      "Classifier predicted on train set in 1.904 seconds.\n",
      "Classifier predicted on test set in 0.341 seconds.\n",
      "Accuracy train:  0.9997062862676923\n",
      "Accuracy test:  0.6851046841731725\n",
      "Precision:  0.6851046841731725\n",
      "Recall:  0.6851046841731725\n",
      "F1 Score:  0.6851046841731725\n"
     ]
    }
   ],
   "source": [
    "# Prediction on train set\n",
    "t0 = time()\n",
    "pred_train = clf.predict(pca_train)\n",
    "tt = time() - t0\n",
    "print (\"Classifier predicted on train set in {} seconds.\".format(round(tt, 3)))\n",
    "\n",
    "# Prediction on test set\n",
    "t0 = time()\n",
    "pred_test = clf.predict(pca_test)\n",
    "tt = time() - t0\n",
    "print (\"Classifier predicted on test set in {} seconds.\".format(round(tt, 3)))\n",
    "\n",
    "# Metrics\n",
    "precision = precision_score(y_test, pred_test, average='micro')\n",
    "recall = recall_score(y_test, pred_test, average='micro')\n",
    "f1 = f1_score(y_test, pred_test, average='micro')\n",
    "accuracy_train = accuracy_score(y_train, pred_train)\n",
    "accuracy_test = accuracy_score(y_test, pred_test)\n",
    "\n",
    "# Printing results\n",
    "print(\"Accuracy train: \", accuracy_train)\n",
    "print(\"Accuracy test: \", accuracy_test)\n",
    "print(\"Precision: \", precision)\n",
    "print(\"Recall: \", recall)\n",
    "print(\"F1 Score: \", f1)\n",
    "print(\"Optimal number of components: \", index_95_percent)"
   ]
  },
  {
   "cell_type": "markdown",
   "id": "027dc532-f312-4890-a56e-f2bc5063050b",
   "metadata": {},
   "source": [
    "# Selecting the best features"
   ]
  },
  {
   "cell_type": "code",
   "execution_count": 37,
   "id": "566692c7-bee6-4f50-ac87-b918f979fa2a",
   "metadata": {},
   "outputs": [],
   "source": [
    "# Create a LabelEncoder instance\n",
    "label_encoder = LabelEncoder()\n",
    "\n",
    "y_train_encoded = y_train.copy()\n",
    "y_test_encoded = y_test.copy()\n",
    "\n",
    "# Fit the encoder on the labels and transform the column\n",
    "y_train_encoded = label_encoder.fit_transform(y_train_encoded)\n",
    "y_test_encoded = label_encoder.fit_transform(y_test_encoded)\n",
    "\n",
    "y_train_encoded = pd.DataFrame(y_train_encoded)\n",
    "y_test_encoded = pd.DataFrame(y_test_encoded)\n",
    "\n",
    "combined_X = pd.concat([X_train_scaled, X_test_scaled], ignore_index=True)\n",
    "combined_y = pd.concat([y_train_encoded, y_test_encoded], ignore_index=True)"
   ]
  },
  {
   "cell_type": "code",
   "execution_count": 38,
   "id": "4800ce9a-bd9a-442a-8680-53fcc0693e7c",
   "metadata": {
    "editable": true,
    "slideshow": {
     "slide_type": ""
    },
    "tags": []
   },
   "outputs": [
    {
     "name": "stderr",
     "output_type": "stream",
     "text": [
      "100%|██████████| 5/5 [02:44<00:00, 32.89s/it]"
     ]
    },
    {
     "name": "stdout",
     "output_type": "stream",
     "text": [
      "Percentile: 10, Mean Accuracy: 0.7602025711242983\n",
      "Percentile: 15, Mean Accuracy: 0.7663096416803035\n",
      "Percentile: 20, Mean Accuracy: 0.7787324531263313\n",
      "Percentile: 25, Mean Accuracy: 0.808109515054593\n",
      "Percentile: 30, Mean Accuracy: 0.8392373046894391\n",
      "Optimal Percentile: 10, Optimal Accuracy: 0.7602025711242983\n"
     ]
    },
    {
     "name": "stderr",
     "output_type": "stream",
     "text": [
      "\n"
     ]
    }
   ],
   "source": [
    "# Define a list of percentiles to test\n",
    "percentiles = [10, 15, 20, 25, 30]\n",
    "\n",
    "# Create a pipeline with feature selection and your classifier\n",
    "model = make_pipeline(SelectPercentile(score_func=f_classif), RandomForestClassifier())\n",
    "\n",
    "# Store accuracies for each percentile\n",
    "accuracies = []\n",
    "\n",
    "# Perform cross-validation for each percentile\n",
    "for percentile in tqdm(percentiles):\n",
    "    model.set_params(selectpercentile__percentile=percentile)\n",
    "    scores = cross_val_score(model, combined_X, combined_y, cv=5)\n",
    "    accuracies.append(scores.mean())\n",
    "\n",
    "# Print accuracies for each percentile\n",
    "for percentile, accuracy in zip(percentiles, accuracies):\n",
    "    print(f\"Percentile: {percentile}, Mean Accuracy: {accuracy}\")\n",
    "\n",
    "\n",
    "\n",
    "# Initialize variables to store the optimal percentile and accuracy\n",
    "optimal_percentile = None\n",
    "optimal_accuracy = None\n",
    "\n",
    "# Iterate through the percentiles and accuracies\n",
    "for i in range(len(percentiles) - 1):\n",
    "    gap_accuracy = accuracies[i+1] - accuracies[i]\n",
    "    if gap_accuracy < 0.005:\n",
    "        optimal_percentile = percentiles[i]\n",
    "        optimal_accuracy = accuracies[i]\n",
    "        break\n",
    "\n",
    "# If no percentile meets the condition, choose the last one\n",
    "if optimal_percentile is None:\n",
    "    optimal_percentile = percentiles[-1]\n",
    "    optimal_accuracy = accuracies[-1]\n",
    "\n",
    "print(f\"Optimal Percentile: {optimal_percentile}, Optimal Accuracy: {optimal_accuracy}\")\n"
   ]
  },
  {
   "cell_type": "code",
   "execution_count": 44,
   "id": "9e2dc806-a66c-4f92-9afd-e858ebbea0f4",
   "metadata": {
    "editable": true,
    "slideshow": {
     "slide_type": ""
    },
    "tags": []
   },
   "outputs": [],
   "source": [
    "selector = SelectPercentile(score_func=f_classif, percentile=30)\n",
    "\n",
    "# Fit and transform the training set\n",
    "X_train_selected = selector.fit_transform(X_train_scaled, y_train_encoded)\n",
    "\n",
    "# Use the selected features to transform the test set\n",
    "X_test_selected = selector.transform(X_test_scaled)"
   ]
  },
  {
   "cell_type": "code",
   "execution_count": 45,
   "id": "5adcee59-a04d-4ff2-9fc0-656091cd189a",
   "metadata": {},
   "outputs": [
    {
     "name": "stdout",
     "output_type": "stream",
     "text": [
      "Trained in 7.151 seconds\n"
     ]
    }
   ],
   "source": [
    "#Predictions on the test data\n",
    "clf = RandomForestClassifier(random_state = 0)\n",
    "t0 = time()\n",
    "clf.fit(X_train_selected, y_train_encoded)\n",
    "tt = time() - t0\n",
    "print (\"Trained in {} seconds\".format(round(tt,3)))"
   ]
  },
  {
   "cell_type": "code",
   "execution_count": 46,
   "id": "1326af93-311d-47b6-9eb2-74bedbb3138e",
   "metadata": {
    "editable": true,
    "slideshow": {
     "slide_type": ""
    },
    "tags": []
   },
   "outputs": [
    {
     "name": "stdout",
     "output_type": "stream",
     "text": [
      "Classifier predicted on train set in 2.222 seconds.\n",
      "Classifier predicted on test set in 0.395 seconds.\n",
      "Accuracy train:  0.976320322608813\n",
      "Accuracy test:  0.03681689141234919\n",
      "Precision:  0.03681689141234919\n",
      "Recall:  0.03681689141234919\n",
      "F1 Score:  0.03681689141234919\n",
      "% feature selected 10\n"
     ]
    }
   ],
   "source": [
    "# Prediction on train set\n",
    "t0 = time()\n",
    "pred_train = clf.predict(X_train_selected)\n",
    "tt = time() - t0\n",
    "print (\"Classifier predicted on train set in {} seconds.\".format(round(tt, 3)))\n",
    "\n",
    "# Prediction on test set\n",
    "t0 = time()\n",
    "pred_test = clf.predict(X_test_selected)\n",
    "tt = time() - t0\n",
    "print (\"Classifier predicted on test set in {} seconds.\".format(round(tt, 3)))\n",
    "\n",
    "# Metrics\n",
    "precision = precision_score(y_test_encoded, pred_test, average='micro')\n",
    "recall = recall_score(y_test_encoded, pred_test, average='micro')\n",
    "f1 = f1_score(y_test_encoded, pred_test, average='micro')\n",
    "accuracy_train = accuracy_score(y_train_encoded, pred_train)\n",
    "accuracy_test = accuracy_score(y_test_encoded, pred_test)\n",
    "\n",
    "# Printing results\n",
    "print(\"Accuracy train: \", accuracy_train)\n",
    "print(\"Accuracy test: \", accuracy_test)\n",
    "print(\"Precision: \", precision)\n",
    "print(\"Recall: \", recall)\n",
    "print(\"F1 Score: \", f1)\n",
    "print(\"% feature selected\", optimal_percentile)"
   ]
  },
  {
   "cell_type": "markdown",
   "id": "3b9188ce-c090-4c77-b4c6-694c6faec41b",
   "metadata": {
    "editable": true,
    "slideshow": {
     "slide_type": ""
    },
    "tags": []
   },
   "source": [
    "# Best n features"
   ]
  },
  {
   "cell_type": "code",
   "execution_count": 21,
   "id": "c87589f8-0b8d-4be0-a03f-8332a1314320",
   "metadata": {},
   "outputs": [
    {
     "name": "stdout",
     "output_type": "stream",
     "text": [
      "Optimal number of features: 39\n"
     ]
    }
   ],
   "source": [
    "min_features_to_select = 10 \n",
    "clf = RandomForestClassifier()\n",
    "cv = StratifiedKFold(5)\n",
    "\n",
    "rfecv = RFECV(\n",
    "    estimator=clf,\n",
    "    step=5,\n",
    "    cv=cv,\n",
    "    scoring=\"accuracy\",\n",
    "    min_features_to_select=min_features_to_select,\n",
    "    n_jobs=2,\n",
    ")\n",
    "rfecv.fit(X_train_scaled, y_train)\n",
    "\n",
    "print(f\"Optimal number of features: {rfecv.n_features_}\")"
   ]
  },
  {
   "cell_type": "code",
   "execution_count": 23,
   "id": "8fb81f3b-afa5-4976-a782-7f7c3a488d7f",
   "metadata": {
    "editable": true,
    "slideshow": {
     "slide_type": ""
    },
    "tags": []
   },
   "outputs": [
    {
     "name": "stdout",
     "output_type": "stream",
     "text": [
      "Selected Features: ['duration', 'src_bytes', 'dst_bytes', 'land', 'wrong_fragment', 'urgent', 'hot', 'num_failed_logins', 'logged_in', 'num_compromised', 'root_shell', 'su_attempted', 'num_root', 'num_file_creations', 'num_shells', 'num_access_files', 'num_outbound_cmds', 'is_host_login', 'is_guest_login', 'count', 'srv_count', 'serror_rate', 'srv_serror_rate', 'rerror_rate', 'srv_rerror_rate', 'same_srv_rate', 'diff_srv_rate', 'srv_diff_host_rate', 'dst_host_count', 'dst_host_srv_count', 'dst_host_same_srv_rate', 'dst_host_diff_srv_rate', 'dst_host_same_src_port_rate', 'dst_host_srv_diff_host_rate', 'dst_host_serror_rate', 'dst_host_srv_serror_rate', 'dst_host_rerror_rate', 'dst_host_srv_rerror_rate', 'level']\n"
     ]
    }
   ],
   "source": [
    "selected_feature_indices = rfecv.support_\n",
    "selected_feature_names = [num_features[i] for i, selected in enumerate(selected_feature_indices) if selected]\n",
    "\n",
    "print(\"Selected Features:\", selected_feature_names)\n",
    "\n",
    "reduced_X_train = X_train[selected_feature_names]\n",
    "reduced_X_test = X_test[selected_feature_names]"
   ]
  },
  {
   "cell_type": "code",
   "execution_count": 24,
   "id": "b4ed4dcd-ce52-4809-8977-d667fff3c25d",
   "metadata": {},
   "outputs": [],
   "source": [
    "# Fit and transform the training set"
   ]
  },
  {
   "cell_type": "code",
   "execution_count": 25,
   "id": "9ed971e7-051f-4759-9426-45e72ce03325",
   "metadata": {},
   "outputs": [
    {
     "name": "stdout",
     "output_type": "stream",
     "text": [
      "Trained in 9.46 seconds\n"
     ]
    }
   ],
   "source": [
    "#Predictions on the test data\n",
    "clf = RandomForestClassifier(random_state = 0)\n",
    "t0 = time()\n",
    "clf.fit(reduced_X_train, y_train)\n",
    "tt = time() - t0\n",
    "print (\"Trained in {} seconds\".format(round(tt,3)))"
   ]
  },
  {
   "cell_type": "code",
   "execution_count": 27,
   "id": "c9968c2c-9205-4652-bc11-422f964d73fb",
   "metadata": {
    "editable": true,
    "slideshow": {
     "slide_type": ""
    },
    "tags": []
   },
   "outputs": [
    {
     "name": "stdout",
     "output_type": "stream",
     "text": [
      "Classifier predicted on train set in 1.985 seconds.\n",
      "Classifier predicted on test set in 0.297 seconds.\n",
      "Accuracy train:  0.9999285561191684\n",
      "Accuracy test:  0.723207948899929\n",
      "Precision:  0.723207948899929\n",
      "Recall:  0.723207948899929\n",
      "F1 Score:  0.7232079488999289\n",
      "N features selected 39\n"
     ]
    }
   ],
   "source": [
    "# Prediction on train set\n",
    "t0 = time()\n",
    "pred_train = clf.predict(reduced_X_train)\n",
    "tt = time() - t0\n",
    "print (\"Classifier predicted on train set in {} seconds.\".format(round(tt, 3)))\n",
    "\n",
    "# Prediction on test set\n",
    "t0 = time()\n",
    "pred_test = clf.predict(reduced_X_test)\n",
    "tt = time() - t0\n",
    "print (\"Classifier predicted on test set in {} seconds.\".format(round(tt, 3)))\n",
    "\n",
    "# Metrics\n",
    "precision = precision_score(y_test, pred_test, average='micro')\n",
    "recall = recall_score(y_test, pred_test, average='micro')\n",
    "f1 = f1_score(y_test, pred_test, average='micro')\n",
    "accuracy_train = accuracy_score(y_train, pred_train)\n",
    "accuracy_test = accuracy_score(y_test, pred_test)\n",
    "\n",
    "# Printing results\n",
    "print(\"Accuracy train: \", accuracy_train)\n",
    "print(\"Accuracy test: \", accuracy_test)\n",
    "print(\"Precision: \", precision)\n",
    "print(\"Recall: \", recall)\n",
    "print(\"F1 Score: \", f1)\n",
    "print(\"N features selected\", len(reduced_X_test.columns))"
   ]
  },
  {
   "cell_type": "code",
   "execution_count": null,
   "id": "7b1270cc-2cc7-4462-8aee-28a832bfef2b",
   "metadata": {
    "editable": true,
    "slideshow": {
     "slide_type": ""
    },
    "tags": []
   },
   "outputs": [],
   "source": [
    "import psutil\n",
    "# Measure memory usage before training the model\n",
    "memory_before = psutil.virtual_memory().used\n",
    "\n",
    "#Predictions on the test data\n",
    "clf = RandomForestClassifier(random_state = 0)\n",
    "t0 = time()\n",
    "clf.fit(X_train, y_train)\n",
    "tt = time() - t0\n",
    "print (\"Trained in {} seconds\".format(round(tt,3)))\n",
    "\n",
    "# Measure memory usage after training the model\n",
    "memory_after = psutil.virtual_memory().used\n",
    "\n",
    "# Calculate the memory usage during the training process\n",
    "memory_used = memory_after - memory_before\n",
    "\n",
    "print(f\"Memory used during training: {memory_used / 1024 / 1024:.2f} MB\")"
   ]
  },
  {
   "cell_type": "code",
   "execution_count": null,
   "id": "aa7b5aa0-25da-4d3a-aa9e-19df7df34a63",
   "metadata": {},
   "outputs": [],
   "source": []
  }
 ],
 "metadata": {
  "kernelspec": {
   "display_name": "Python 3 (ipykernel)",
   "language": "python",
   "name": "python3"
  },
  "language_info": {
   "codemirror_mode": {
    "name": "ipython",
    "version": 3
   },
   "file_extension": ".py",
   "mimetype": "text/x-python",
   "name": "python",
   "nbconvert_exporter": "python",
   "pygments_lexer": "ipython3",
   "version": "3.11.6"
  }
 },
 "nbformat": 4,
 "nbformat_minor": 5
}
